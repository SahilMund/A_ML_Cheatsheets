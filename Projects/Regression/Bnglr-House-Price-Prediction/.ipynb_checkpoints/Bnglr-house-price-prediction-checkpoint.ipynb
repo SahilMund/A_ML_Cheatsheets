{
 "cells": [
  {
   "cell_type": "markdown",
   "metadata": {
    "colab_type": "text",
    "id": "view-in-github"
   },
   "source": [
    "<a href=\"https://colab.research.google.com/github/satishgunjal/Real-Estate-Price-Prediction-Project/blob/master/House_Price_Prediction_Project.ipynb\" target=\"_parent\"><img src=\"https://colab.research.google.com/assets/colab-badge.svg\" alt=\"Open In Colab\"/></a>"
   ]
  },
  {
   "cell_type": "markdown",
   "metadata": {
    "colab_type": "text",
    "id": "Eb4sSQMBp04P"
   },
   "source": [
    "# Real Estate Price Prediction Project\n",
    "\n",
    "## Introduction\n",
    "Creating a Machine Learning model to predict the home prices in Bangalore, India. We are going to use the dataset from Kaggle.com.\n",
    "We are also going to create a single page website which will provide the front end to access our model for predictions.\n",
    "\n",
    "Below data science concepts are used in this project\n",
    "* Data loading and cleaning\n",
    "* Outlier detection and removal\n",
    "* Feature engineering\n",
    "* Dimensionality reduction\n",
    "* Gridsearchcv for hyperparameter tunning\n",
    "* K fold cross validation\n",
    "\n",
    "Technology and tools used in this project\n",
    "* Python\n",
    "* Numpy and Pandas for data cleaning\n",
    "* Matplotlib for data visualization\n",
    "* Sklearn for model building\n",
    "* Google Colaboratory Notebook\n",
    "* Python flask for http server\n",
    "* HTML/CSS/Javascript for UI\n",
    "\n",
    "## Steps\n",
    "1. We will first build a model using sklearn and linear regression using banglore home prices dataset from kaggle.com.\n",
    "2. Second step would be to write a python flask server that uses the saved model to serve http requests.\n",
    "3. Third component is the website built in html, css and javascript that allows user to enter home square ft area, bedrooms etc and it will call python flask server to retrieve the predicted price. \n",
    "\n",
    "## Dataset Reference\n",
    "* [Bengaluru House price data](https://www.kaggle.com/amitabhajoy/bengaluru-house-price-data)\n",
    "* I have also uploaed the csv file in this repository [Bengaluru_House_Data.csv](Bengaluru_House_Data.csv)"
   ]
  },
  {
   "cell_type": "markdown",
   "metadata": {
    "colab_type": "text",
    "id": "KiEhp5z_p9dS"
   },
   "source": [
    "#Step#1: Import Libraries\n"
   ]
  },
  {
   "cell_type": "code",
   "execution_count": 1,
   "metadata": {
    "colab": {},
    "colab_type": "code",
    "id": "XpgiGgOApwMW"
   },
   "outputs": [
    {
     "ename": "ModuleNotFoundError",
     "evalue": "No module named 'google'",
     "output_type": "error",
     "traceback": [
      "\u001b[1;31m---------------------------------------------------------------------------\u001b[0m",
      "\u001b[1;31mModuleNotFoundError\u001b[0m                       Traceback (most recent call last)",
      "\u001b[1;32m<ipython-input-1-fd3a814b99ac>\u001b[0m in \u001b[0;36m<module>\u001b[1;34m\u001b[0m\n\u001b[0;32m      5\u001b[0m \u001b[1;32mimport\u001b[0m \u001b[0mmatplotlib\u001b[0m\u001b[1;33m\u001b[0m\u001b[1;33m\u001b[0m\u001b[0m\n\u001b[0;32m      6\u001b[0m \u001b[0mmatplotlib\u001b[0m\u001b[1;33m.\u001b[0m\u001b[0mrcParams\u001b[0m\u001b[1;33m[\u001b[0m\u001b[1;34m'figure.figsize'\u001b[0m\u001b[1;33m]\u001b[0m \u001b[1;33m=\u001b[0m \u001b[1;33m(\u001b[0m\u001b[1;36m20\u001b[0m\u001b[1;33m,\u001b[0m\u001b[1;36m10\u001b[0m\u001b[1;33m)\u001b[0m \u001b[1;31m# width, height in inches\u001b[0m\u001b[1;33m\u001b[0m\u001b[1;33m\u001b[0m\u001b[0m\n\u001b[1;32m----> 7\u001b[1;33m \u001b[1;32mfrom\u001b[0m \u001b[0mgoogle\u001b[0m\u001b[1;33m.\u001b[0m\u001b[0mcolab\u001b[0m \u001b[1;32mimport\u001b[0m \u001b[0mfiles\u001b[0m\u001b[1;33m\u001b[0m\u001b[1;33m\u001b[0m\u001b[0m\n\u001b[0m\u001b[0;32m      8\u001b[0m \u001b[1;32mimport\u001b[0m \u001b[0mio\u001b[0m\u001b[1;33m\u001b[0m\u001b[1;33m\u001b[0m\u001b[0m\n",
      "\u001b[1;31mModuleNotFoundError\u001b[0m: No module named 'google'"
     ]
    }
   ],
   "source": [
    "import pandas as pd\n",
    "import numpy as np\n",
    "import matplotlib.pyplot as plt\n",
    "%matplotlib inline\n",
    "import matplotlib\n",
    "matplotlib.rcParams['figure.figsize'] = (20,10) # width, height in inches\n",
    "from google.colab import files\n",
    "import io"
   ]
  },
  {
   "cell_type": "markdown",
   "metadata": {
    "colab_type": "text",
    "id": "wm09zH0OtRFK"
   },
   "source": [
    "#Step#2: Load the data\n",
    "* Load the data in dataframe"
   ]
  },
  {
   "cell_type": "code",
   "execution_count": null,
   "metadata": {
    "colab": {},
    "colab_type": "code",
    "id": "0aMK2YLItYrj"
   },
   "outputs": [],
   "source": [
    "# for local notebook\n",
    "#df1 = pd.read_csv('Bengaluru_House_Data.csv')\n",
    "#df1.head()"
   ]
  },
  {
   "cell_type": "code",
   "execution_count": null,
   "metadata": {
    "colab": {
     "base_uri": "https://localhost:8080/",
     "height": 75,
     "resources": {
      "http://localhost:8080/nbextensions/google.colab/files.js": {
       "data": "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",
       "headers": [
        [
         "content-type",
         "application/javascript"
        ]
       ],
       "ok": true,
       "status": 200,
       "status_text": ""
      }
     }
    },
    "colab_type": "code",
    "id": "CktYqH-Pt52h",
    "outputId": "a8b79a0e-e2b5-4b1f-859b-d410b6849068"
   },
   "outputs": [],
   "source": [
    "#For google colab\n",
    "uploaded = files.upload()"
   ]
  },
  {
   "cell_type": "code",
   "execution_count": null,
   "metadata": {
    "colab": {
     "base_uri": "https://localhost:8080/",
     "height": 199
    },
    "colab_type": "code",
    "id": "-WpbLtUVtgdL",
    "outputId": "defaa4c2-e71b-4d25-a32d-19893b5d2ab4"
   },
   "outputs": [],
   "source": [
    "df1 = pd.read_csv(io.StringIO(uploaded['Bengaluru_House_Data.csv'].decode('utf-8')))\n",
    "df1.head()"
   ]
  },
  {
   "cell_type": "markdown",
   "metadata": {
    "colab_type": "text",
    "id": "VW1i_x9IuljP"
   },
   "source": [
    "#Step#3: Understand the data\n",
    "* Finalize the columns to work with and drop the rest of them"
   ]
  },
  {
   "cell_type": "code",
   "execution_count": null,
   "metadata": {
    "colab": {
     "base_uri": "https://localhost:8080/",
     "height": 34
    },
    "colab_type": "code",
    "id": "FnAnCZ75uogp",
    "outputId": "bb51c6f0-128e-4491-bbb2-d89b39667f59"
   },
   "outputs": [],
   "source": [
    "# Get the no of rows and columns\n",
    "df1.shape"
   ]
  },
  {
   "cell_type": "code",
   "execution_count": null,
   "metadata": {
    "colab": {
     "base_uri": "https://localhost:8080/",
     "height": 70
    },
    "colab_type": "code",
    "id": "6epvumHFu65A",
    "outputId": "e35ab577-7f67-4857-ecda-f856cf5ae749"
   },
   "outputs": [],
   "source": [
    "#Get all the column names\n",
    "df1.columns"
   ]
  },
  {
   "cell_type": "code",
   "execution_count": null,
   "metadata": {
    "colab": {
     "base_uri": "https://localhost:8080/",
     "height": 52
    },
    "colab_type": "code",
    "id": "dXKabzqPw2TX",
    "outputId": "3f1b6600-50b9-40f1-ef8d-1a679778a8f8"
   },
   "outputs": [],
   "source": [
    "#Lets check the unique values 'area_type' column\n",
    "df1.area_type.unique()"
   ]
  },
  {
   "cell_type": "code",
   "execution_count": null,
   "metadata": {
    "colab": {
     "base_uri": "https://localhost:8080/",
     "height": 105
    },
    "colab_type": "code",
    "id": "USYtVrQ7xCyk",
    "outputId": "be7df7d3-82bd-4a4b-fea8-e6990db487e2"
   },
   "outputs": [],
   "source": [
    "#Let get the count of trianing examples for each area type\n",
    "df1.area_type.value_counts()"
   ]
  },
  {
   "cell_type": "markdown",
   "metadata": {
    "colab_type": "text",
    "id": "m56z9xeYxZu4"
   },
   "source": [
    "## Dropping the columns\n",
    "* As such all the columns are important for price prediction, but for the sake of this project I am going to drop few columns"
   ]
  },
  {
   "cell_type": "code",
   "execution_count": null,
   "metadata": {
    "colab": {
     "base_uri": "https://localhost:8080/",
     "height": 217
    },
    "colab_type": "code",
    "id": "mex2QHoExuSL",
    "outputId": "3b0ad164-09d7-4a67-ae74-9e1dd1aa917e"
   },
   "outputs": [],
   "source": [
    "# Note everytime we make change in dataset we store it in new dataframe\n",
    "df2 = df1.drop(['area_type', 'availability', 'society', 'balcony'],axis='columns')\n",
    "\n",
    "print('Rows and columns are = ', df2.shape)\n",
    "df2.head()"
   ]
  },
  {
   "cell_type": "markdown",
   "metadata": {
    "colab_type": "text",
    "id": "ha_o7t4SzOKy"
   },
   "source": [
    "#Step#4: Data Cleaning\n",
    "* Check for na values\n",
    "* Verify unique values of each column\n",
    "* Make sure values are correct (eg. 23 BHK home with only 2000 Sqrft size seems wrong)"
   ]
  },
  {
   "cell_type": "markdown",
   "metadata": {
    "colab_type": "text",
    "id": "iaeMca_Q1s0v"
   },
   "source": [
    "## Handling null values"
   ]
  },
  {
   "cell_type": "code",
   "execution_count": null,
   "metadata": {
    "colab": {
     "base_uri": "https://localhost:8080/",
     "height": 0
    },
    "colab_type": "code",
    "id": "xuwIGLtXzeb5",
    "outputId": "a52fe301-c53f-4b16-d7fa-bb60c82cfc98"
   },
   "outputs": [],
   "source": [
    "# Get the sum of all na values from dataset\n",
    "df2.isna().sum()"
   ]
  },
  {
   "cell_type": "markdown",
   "metadata": {
    "colab_type": "text",
    "id": "sKJHdiSB1yvg"
   },
   "source": [
    "Since null values as comapre to total training examples(13320) is verry less we can safly drop those examples"
   ]
  },
  {
   "cell_type": "code",
   "execution_count": null,
   "metadata": {
    "colab": {
     "base_uri": "https://localhost:8080/",
     "height": 0
    },
    "colab_type": "code",
    "id": "d8IQc05D1_4W",
    "outputId": "d01a268d-1e7f-4856-d86b-cb9cfc0e6384"
   },
   "outputs": [],
   "source": [
    "df3 = df2.dropna()\n",
    "df3.isnull().sum()"
   ]
  },
  {
   "cell_type": "code",
   "execution_count": null,
   "metadata": {
    "colab": {
     "base_uri": "https://localhost:8080/",
     "height": 0
    },
    "colab_type": "code",
    "id": "5H72W9972Nxl",
    "outputId": "52092d25-a142-4f4c-9f71-c6761f2b5b4c"
   },
   "outputs": [],
   "source": [
    "# Since all oor training examples containing null values are dropped lets check the shape of the dataset again\n",
    "df3.shape"
   ]
  },
  {
   "cell_type": "markdown",
   "metadata": {
    "colab_type": "text",
    "id": "V0mr1--H39Y_"
   },
   "source": [
    "## Feature Engineering\n",
    "* 'size' column contgaines the size of house in terms of BHK( Bedroom Hall Kitchen)\n",
    "* To simply it we can create new column by the name 'bhk' and add only numeric value of how many BHK's"
   ]
  },
  {
   "cell_type": "code",
   "execution_count": null,
   "metadata": {
    "colab": {
     "base_uri": "https://localhost:8080/",
     "height": 0
    },
    "colab_type": "code",
    "id": "22xwyWtn46gZ",
    "outputId": "6797a48c-8f9c-4baf-cd20-ebf63a3a49b9"
   },
   "outputs": [],
   "source": [
    "df3['size'].unique()"
   ]
  },
  {
   "cell_type": "code",
   "execution_count": null,
   "metadata": {
    "colab": {
     "base_uri": "https://localhost:8080/",
     "height": 0
    },
    "colab_type": "code",
    "id": "NXqO4aFr4pK4",
    "outputId": "93f6178b-4618-432e-ecd8-33aef8c7b256"
   },
   "outputs": [],
   "source": [
    "df4 = df3.copy()\n",
    "\n",
    "# Using lambda function we can get the BHK numeric value\n",
    "df4['bhk'] = df3['size'].apply(lambda x: int(x.split(' ')[0]))\n",
    "#df3['bhk'] = df3['size'].apply(lambda x: int(x.split(' ')[0]))\n",
    "df4.bhk.unique()"
   ]
  },
  {
   "cell_type": "markdown",
   "metadata": {
    "colab_type": "text",
    "id": "v7H2gM9l7s_p"
   },
   "source": [
    "From above data we can see that there are home with upto 43 BHK's in Bangalore.. must be apolitician :)"
   ]
  },
  {
   "cell_type": "code",
   "execution_count": null,
   "metadata": {
    "colab": {
     "base_uri": "https://localhost:8080/",
     "height": 0
    },
    "colab_type": "code",
    "id": "FIf7Uegv74SE",
    "outputId": "eeb515b8-b2f3-41fa-d729-c24a4b7d0056"
   },
   "outputs": [],
   "source": [
    "#Get the training examples with home size more than 20 BHK\n",
    "df4[df4.bhk >20]"
   ]
  },
  {
   "cell_type": "markdown",
   "metadata": {
    "colab_type": "text",
    "id": "DRDeD7zA8HGN"
   },
   "source": [
    "Note above 43 BHK home area is only 2400 sqrft only. We will remove this data error later. First lets clean the 'total_sqft' column"
   ]
  },
  {
   "cell_type": "markdown",
   "metadata": {
    "colab_type": "text",
    "id": "UyEupWM462u0"
   },
   "source": [
    "Now lets check the unique values in 'total_sqft' column"
   ]
  },
  {
   "cell_type": "code",
   "execution_count": null,
   "metadata": {
    "colab": {
     "base_uri": "https://localhost:8080/",
     "height": 0
    },
    "colab_type": "code",
    "id": "fTs8ovHr66kR",
    "outputId": "a0c42257-194f-4b84-de78-e385ed8b0044"
   },
   "outputs": [],
   "source": [
    "df4.total_sqft.unique()"
   ]
  },
  {
   "cell_type": "markdown",
   "metadata": {
    "colab_type": "text",
    "id": "1EAC-zLo8dd2"
   },
   "source": [
    "Note above, there are few records with range of the area like '1133 - 1384'.\n",
    "Lets write a function to identify such values"
   ]
  },
  {
   "cell_type": "code",
   "execution_count": null,
   "metadata": {
    "colab": {},
    "colab_type": "code",
    "id": "fFCT1t558pR4"
   },
   "outputs": [],
   "source": [
    "def is_float(x):\n",
    "  try:\n",
    "    float(x)\n",
    "  except:\n",
    "    return False\n",
    "\n",
    "  return True"
   ]
  },
  {
   "cell_type": "code",
   "execution_count": null,
   "metadata": {
    "colab": {
     "base_uri": "https://localhost:8080/",
     "height": 0
    },
    "colab_type": "code",
    "id": "kGFdPmGY9UP3",
    "outputId": "967a9fa3-9784-4827-dae3-eda399cffb79"
   },
   "outputs": [],
   "source": [
    "# Test the function\n",
    "print('is this (123) float value = %s' % (is_float(123)))\n",
    "print('is this (1133 - 1384) float value = %s' % (is_float('1133 - 1384')))"
   ]
  },
  {
   "cell_type": "code",
   "execution_count": null,
   "metadata": {
    "colab": {
     "base_uri": "https://localhost:8080/",
     "height": 0
    },
    "colab_type": "code",
    "id": "FtHbBFx7-s9N",
    "outputId": "53c7c80e-4404-456d-b608-306f5098b313"
   },
   "outputs": [],
   "source": [
    "#Lets apply this function to 'total_sqft' column\n",
    "\n",
    "#Showing training examples where 'total_sqft' vale is not float\n",
    "df4[~df4['total_sqft'].apply(is_float)].head(10) "
   ]
  },
  {
   "cell_type": "markdown",
   "metadata": {
    "colab_type": "text",
    "id": "HqQCgzAQ-ryl"
   },
   "source": [
    "* Since most the value are range of sqft, we can write afunction to get the average value from a range. \n",
    "* There are few values like '34.46Sq. Meter' and '4125Perch' we can also try and convert those values into sqft but for now I amgoing to ignore them"
   ]
  },
  {
   "cell_type": "code",
   "execution_count": null,
   "metadata": {
    "colab": {},
    "colab_type": "code",
    "id": "GM0aabX-_54p"
   },
   "outputs": [],
   "source": [
    "def convert_range_to_sqft(x):\n",
    "  try:\n",
    "    tokens = x.split('-')\n",
    "\n",
    "    if len(tokens) == 2:\n",
    "      return (float(tokens[0]) + float(tokens[1]))/2\n",
    "    else:\n",
    "      return float(x)\n",
    "  except:\n",
    "    return None"
   ]
  },
  {
   "cell_type": "code",
   "execution_count": null,
   "metadata": {
    "colab": {
     "base_uri": "https://localhost:8080/",
     "height": 0
    },
    "colab_type": "code",
    "id": "LVZTUL81A7sB",
    "outputId": "6bb89ff0-673f-481b-9d38-0085cb5d21da"
   },
   "outputs": [],
   "source": [
    "#Lets test the convert_range_to_sqft()\n",
    "print('Return value for i/p 12345 = %s' % (convert_range_to_sqft('12345')))\n",
    "print('Return value for i/p 1133 - 1384 = %s' % (convert_range_to_sqft('1133 - 1384')))\n",
    "print('Return value for i/p 34.46Sq. Meter = %s' % (convert_range_to_sqft('34.46Sq. Meter')))"
   ]
  },
  {
   "cell_type": "code",
   "execution_count": null,
   "metadata": {
    "colab": {
     "base_uri": "https://localhost:8080/",
     "height": 0
    },
    "colab_type": "code",
    "id": "KBANFxdlBX0o",
    "outputId": "5871715b-aacf-4bf5-93ce-b7cf75060aa0"
   },
   "outputs": [],
   "source": [
    "# Lets apply this function for total_sqft column\n",
    "df5 = df4.copy()\n",
    "\n",
    "df5.total_sqft = df4.total_sqft.apply(convert_range_to_sqft)\n",
    "df5.head()"
   ]
  },
  {
   "cell_type": "code",
   "execution_count": null,
   "metadata": {
    "colab": {
     "base_uri": "https://localhost:8080/",
     "height": 0
    },
    "colab_type": "code",
    "id": "rpRkrMrQPk3o",
    "outputId": "8a450d04-0522-4717-de30-234c8958803c"
   },
   "outputs": [],
   "source": [
    "# Since our converion function will return null for values like 34.46Sq. Meter. Lets check for any null values in it\n",
    "df5.total_sqft.isnull().sum()"
   ]
  },
  {
   "cell_type": "code",
   "execution_count": null,
   "metadata": {
    "colab": {
     "base_uri": "https://localhost:8080/",
     "height": 0
    },
    "colab_type": "code",
    "id": "HMrQ3fqaQ3ND",
    "outputId": "b74e2b6d-ba07-4a1f-fedd-5b682e742216"
   },
   "outputs": [],
   "source": [
    "# Lets dro the null training sets from total_sqft\n",
    "df6 = df5.dropna()\n",
    "df6.total_sqft.isnull().sum()\n",
    "\n",
    "# OR\n",
    "#We can also select the not null training set using below filter\n",
    "#df6 = df5[df5.total_sqft.notnull()]"
   ]
  },
  {
   "cell_type": "code",
   "execution_count": null,
   "metadata": {
    "colab": {
     "base_uri": "https://localhost:8080/",
     "height": 0
    },
    "colab_type": "code",
    "id": "5v-jRNLgSX_Z",
    "outputId": "f12a0f90-3878-4b52-f66e-e0a83e73d131"
   },
   "outputs": [],
   "source": [
    "# Lets cross check the values of 'total_sqft'\n",
    "print('total_sqft value for 30th training set in df4 = %s' % (df4.total_sqft[30]))\n",
    "print('total_sqft value for 30th training set in df6 = %s' % (df6.total_sqft[30]))"
   ]
  },
  {
   "cell_type": "markdown",
   "metadata": {
    "colab_type": "text",
    "id": "zCUTiJ4lA7Ak"
   },
   "source": [
    "## Feature Engineering\n",
    "* 'price' column containes the price of house in lacka ( 1 lakh = 100000)\n",
    "* Price per square fit is important parameter in house prices.\n",
    "* So we can create new column by the name 'price_per_sqft' and add price per sqft in it. formula = (price * 100000)/total_sqft"
   ]
  },
  {
   "cell_type": "code",
   "execution_count": null,
   "metadata": {
    "colab": {
     "base_uri": "https://localhost:8080/",
     "height": 0
    },
    "colab_type": "code",
    "id": "SXYoe6x7r8AT",
    "outputId": "51260d57-71c1-4044-d550-5de61bed8462"
   },
   "outputs": [],
   "source": [
    "df7 = df6.copy()\n",
    "\n",
    "df7['price_per_sqft'] = (df6['price'] * 100000)/df6['total_sqft']\n",
    "df7.head()"
   ]
  },
  {
   "cell_type": "code",
   "execution_count": null,
   "metadata": {
    "colab": {
     "base_uri": "https://localhost:8080/",
     "height": 0
    },
    "colab_type": "code",
    "id": "FOZpp4wZt9TR",
    "outputId": "ef89bbb8-8448-4533-91cc-705af886113a"
   },
   "outputs": [],
   "source": [
    "df7_stats = df7['price_per_sqft'].describe()\n",
    "df7_stats"
   ]
  },
  {
   "cell_type": "markdown",
   "metadata": {
    "colab_type": "text",
    "id": "WWjFhsUQvMiJ"
   },
   "source": [
    "## Dimesionality Reduction\n",
    "* Dimensionality reduction is simply a process of reducing the dimension( or number of random variables) of your feature set\n",
    "* In our dataset 'location' is categorical variable with 1287 categories.\n",
    "* Before using One Hot Encoding to create dummy variables we must reduce the number of categories by using dimensionality reduction so that we will get less number of dummy variables.\n",
    "* Our criteria for dimesionality reduction for 'location' is to use 'other' location for any location having less than 10 data points.\n"
   ]
  },
  {
   "cell_type": "code",
   "execution_count": null,
   "metadata": {
    "colab": {
     "base_uri": "https://localhost:8080/",
     "height": 0
    },
    "colab_type": "code",
    "id": "Hsh77cctzGbM",
    "outputId": "494c1a94-1a0f-4bc2-95f5-795b2efe7450"
   },
   "outputs": [],
   "source": [
    "#Trim the location values\n",
    "df7.location = df7.location.apply(lambda x: x.strip())\n",
    "df7.head()"
   ]
  },
  {
   "cell_type": "code",
   "execution_count": null,
   "metadata": {
    "colab": {
     "base_uri": "https://localhost:8080/",
     "height": 0
    },
    "colab_type": "code",
    "id": "xpUxd8KI0E7u",
    "outputId": "b2ddb176-6725-4a14-d3b3-8e384424897a"
   },
   "outputs": [],
   "source": [
    "#Lets get the count of each location\n",
    "location_stats = df7.location.value_counts(ascending=False)\n",
    "location_stats"
   ]
  },
  {
   "cell_type": "code",
   "execution_count": null,
   "metadata": {
    "colab": {
     "base_uri": "https://localhost:8080/",
     "height": 0
    },
    "colab_type": "code",
    "id": "InVa3_4O1MrE",
    "outputId": "b39d54fa-c2a4-44f0-f2d9-1329a945210e"
   },
   "outputs": [],
   "source": [
    "#Total number unique location categories are\n",
    "len(location_stats)"
   ]
  },
  {
   "cell_type": "markdown",
   "metadata": {
    "colab_type": "text",
    "id": "MW8tJ_G612Ms"
   },
   "source": [
    "We are going assign a category 'other' for every location where total datapoints are less than 10"
   ]
  },
  {
   "cell_type": "code",
   "execution_count": null,
   "metadata": {
    "colab": {
     "base_uri": "https://localhost:8080/",
     "height": 0
    },
    "colab_type": "code",
    "id": "Kb-tpnki1XTG",
    "outputId": "a0a3a253-89d7-4f03-d11e-e6c4041dcac9"
   },
   "outputs": [],
   "source": [
    "#Get total number of categories where data points are less than 10\n",
    "print('Total no of locations where data points are more than 10 = %s' % (len(location_stats[location_stats > 10])))\n",
    "print('Total no of locations where data points are less than 10 = %s' % (len(location_stats[location_stats <= 10])))"
   ]
  },
  {
   "cell_type": "markdown",
   "metadata": {
    "colab_type": "text",
    "id": "sjKVy2Cf3Ys-"
   },
   "source": [
    "Any location having less than 10 data points should be tagged as \"other\" location. This way number of categories can be reduced by huge amount. Later on when we do one hot encoding, it will help us with having fewer dummy columns"
   ]
  },
  {
   "cell_type": "code",
   "execution_count": null,
   "metadata": {
    "colab": {
     "base_uri": "https://localhost:8080/",
     "height": 0
    },
    "colab_type": "code",
    "id": "ZBNGhv0j3bOn",
    "outputId": "30a98cd6-70a2-4e2d-eb31-c57eea44efe0"
   },
   "outputs": [],
   "source": [
    "location_stats_less_than_10 = location_stats[location_stats <= 10]\n",
    "location_stats_less_than_10"
   ]
  },
  {
   "cell_type": "code",
   "execution_count": null,
   "metadata": {
    "colab": {
     "base_uri": "https://localhost:8080/",
     "height": 0
    },
    "colab_type": "code",
    "id": "4GOHwLzp4Ycl",
    "outputId": "3f768eee-b3d1-4fc7-93bf-5f106692b8ea"
   },
   "outputs": [],
   "source": [
    "#Using lambda function assign the 'other' type to every element in 'location_stats_less_than_10'\n",
    "df8 = df7.copy()\n",
    "\n",
    "df8.location = df7.location.apply(lambda x: 'other' if x in location_stats_less_than_10 else x )\n",
    "len(df8.location.unique())"
   ]
  },
  {
   "cell_type": "markdown",
   "metadata": {
    "colab_type": "text",
    "id": "IwcrUAiC5ox2"
   },
   "source": [
    "Since 1047 location with less than 10 data points are converted to one category 'other'\n",
    "Total no of unique location categories are = 240 +1  = 241"
   ]
  },
  {
   "cell_type": "code",
   "execution_count": null,
   "metadata": {
    "colab": {
     "base_uri": "https://localhost:8080/",
     "height": 0
    },
    "colab_type": "code",
    "id": "SBv197O_8Oja",
    "outputId": "ddb3012f-4bc2-4d04-adf8-b0e4457a30df"
   },
   "outputs": [],
   "source": [
    "df8.head(10)"
   ]
  },
  {
   "cell_type": "markdown",
   "metadata": {
    "colab_type": "text",
    "id": "r_lbCSRd80hj"
   },
   "source": [
    "## Outlier Removal\n",
    "* An outlier is an observation that is unlike the other observations. It is rare, or distinct, or does not fit in some way.\n",
    "* Outliers are the data points that represent the extreame variation of dataset\n",
    "* Outliers can be valid data points but since our model is generalization of the data, outliers can affect the performanace of the model. We are going to remove the otliers, but please note its not always a good practice to remove the outliers.\n",
    "* To remove the outliers we can use domain knwoledge and standard deviation\n",
    "\n",
    "### Standard Deviation\n",
    "* Standard deviation is measure of spread that is to khow how much does the data vary from the average\n",
    "* A low standard deviation tells us that the data is closely clustered around the mean (or average), while a high standard deviation indicates that the data is dispersed over a wider range of values. \n",
    "* It is used when the distribution of data is approximately normal, resembling a bell curve.\n",
    "* One standard deviation(1 Sigma) of the mean will cover 68% of the data. i.e. Data between (mean - std deviation) & (mean + std deviation) is 1 Sigma and which is equal to 68%\n",
    "* Here we are going to consider 1 Sigma as our threshold adn any data outside 1 Sigma will be considered as outlier\n",
    "* [How to Use Statistics to Identify Outliers in Data](https://machinelearningmastery.com/how-to-use-statistics-to-identify-outliers-in-data/)\n",
    "* [Reference](https://youtu.be/MRqtXL2WX2M)\n",
    "\n",
    "### Using domain knowledge for outlier removal\n",
    "* Normally square fit per bedroom is 300 (i.e. 2 bhk apartment is minimum 600 sqft)\n",
    "* If you have for example 400 sqft apartment with 2 bhk than that seems suspicious and can be removed as an outlier. \n",
    "* We will remove such outliers by keeping our minimum threshold per bhk to be 300 sqft"
   ]
  },
  {
   "cell_type": "markdown",
   "metadata": {
    "colab_type": "text",
    "id": "P1MM5m0_x2uq"
   },
   "source": [
    "### Using domain knowledge for outlier removal\n"
   ]
  },
  {
   "cell_type": "code",
   "execution_count": null,
   "metadata": {
    "colab": {
     "base_uri": "https://localhost:8080/",
     "height": 410
    },
    "colab_type": "code",
    "id": "X4AQivpfg3GQ",
    "outputId": "cbe39755-3a39-4566-e812-6d4932d966f0"
   },
   "outputs": [],
   "source": [
    "# Lets visualize the data where square fit per bedroom is less than 300\n",
    "df8[(df8.total_sqft / df8.bhk) < 300]"
   ]
  },
  {
   "cell_type": "markdown",
   "metadata": {
    "colab_type": "text",
    "id": "fmZBg2-qh1mn"
   },
   "source": [
    "Note abobe we have 744 training examples where square fit per bedroom is less than 300. These are outliers, so we can remove them"
   ]
  },
  {
   "cell_type": "code",
   "execution_count": null,
   "metadata": {
    "colab": {
     "base_uri": "https://localhost:8080/",
     "height": 34
    },
    "colab_type": "code",
    "id": "TxjK6p2kiyQP",
    "outputId": "c7e2e472-2ba6-448f-c200-d129de65869a"
   },
   "outputs": [],
   "source": [
    "#Lets check current dataset shape before removing outliers\n",
    "df8.shape"
   ]
  },
  {
   "cell_type": "code",
   "execution_count": null,
   "metadata": {
    "colab": {
     "base_uri": "https://localhost:8080/",
     "height": 34
    },
    "colab_type": "code",
    "id": "nvrtHe2dim4d",
    "outputId": "7ba89a73-5e28-4160-a2f8-3cd31e4f89e8"
   },
   "outputs": [],
   "source": [
    "df9 = df8[~((df8.total_sqft / df8.bhk) < 300)]\n",
    "df9.shape"
   ]
  },
  {
   "cell_type": "markdown",
   "metadata": {
    "colab_type": "text",
    "id": "WHsG44TXjWog"
   },
   "source": [
    "### Outlier Removal - Using Standard Deviation and Mean\n",
    "* One standard deviation(1 Sigma) of the mean will cover 68% of the data. i.\n",
    "e. Data between (mean - std deviation) & (mean + std deviation) is 1 Sigma and which is equal to 68%\n",
    "* Here any datapin t outside the 1 Sigma deviation (68%) is outlier for us"
   ]
  },
  {
   "cell_type": "code",
   "execution_count": null,
   "metadata": {
    "colab": {
     "base_uri": "https://localhost:8080/",
     "height": 175
    },
    "colab_type": "code",
    "id": "rDAEesN9jhws",
    "outputId": "5234c948-a1f8-4376-f801-efd289713531"
   },
   "outputs": [],
   "source": [
    "# Get basic stats of column 'price_per_sqft'\n",
    "df9.price_per_sqft.describe()"
   ]
  },
  {
   "cell_type": "markdown",
   "metadata": {
    "colab_type": "text",
    "id": "LdwkbY5urxMV"
   },
   "source": [
    "Note: Its important to understand that price of every house is location specific. We are going to remove outliers using 'price_per_sqft' for each location"
   ]
  },
  {
   "cell_type": "code",
   "execution_count": null,
   "metadata": {
    "colab": {
     "base_uri": "https://localhost:8080/",
     "height": 623
    },
    "colab_type": "code",
    "id": "1oXfoxd5phL0",
    "outputId": "9a51b9fb-e610-472d-e067-ff1eb4e0b3ef"
   },
   "outputs": [],
   "source": [
    "# Data visualization for 'price_per_sqft' for location 'Rajaji Nagar'\n",
    "# Note here its normal distribuation of data so outlier removal using stad deviation and mean works perfectly here\n",
    "plt.hist(df9[df9.location == \"Rajaji Nagar\"].price_per_sqft,rwidth=0.8)\n",
    "plt.xlabel(\"Price Per Square Feet\")\n",
    "plt.ylabel(\"Count\")"
   ]
  },
  {
   "cell_type": "code",
   "execution_count": null,
   "metadata": {
    "colab": {
     "base_uri": "https://localhost:8080/",
     "height": 34
    },
    "colab_type": "code",
    "id": "irbzERBqtMGo",
    "outputId": "2482b836-151f-48f2-b2f5-c4a5817fc275"
   },
   "outputs": [],
   "source": [
    "#Lets check current dataset shape before removing outliers\n",
    "df9.shape"
   ]
  },
  {
   "cell_type": "code",
   "execution_count": null,
   "metadata": {
    "colab": {
     "base_uri": "https://localhost:8080/",
     "height": 34
    },
    "colab_type": "code",
    "id": "safeD73Ys-CW",
    "outputId": "75bfdbd6-0da2-4483-f458-cf546a14aca5"
   },
   "outputs": [],
   "source": [
    "# Function to remove outliers using pps(price per sqft)\n",
    "def remove_pps_outliers(df):\n",
    "    df_out = pd.DataFrame()\n",
    "    for key, subdf in df.groupby('location'):\n",
    "        mean = np.mean(subdf.price_per_sqft)\n",
    "        std = np.std(subdf.price_per_sqft)\n",
    "        reduced_df = subdf[(subdf.price_per_sqft>(mean-std)) & (subdf.price_per_sqft<=(mean + std))] # 1 Sigma value i.e 68% of data\n",
    "        df_out = pd.concat([df_out,reduced_df],ignore_index=True) # Storing data in 'df_out' dataframe\n",
    "    return df_out\n",
    "\n",
    "df10 = remove_pps_outliers(df9)\n",
    "df10.shape"
   ]
  },
  {
   "cell_type": "code",
   "execution_count": null,
   "metadata": {
    "colab": {
     "base_uri": "https://localhost:8080/",
     "height": 623
    },
    "colab_type": "code",
    "id": "ymSElfeVvenf",
    "outputId": "f1df1ae5-5b54-4681-f871-58f8d7b27338"
   },
   "outputs": [],
   "source": [
    "# Data visualization for 'price_per_sqft' for location 'Rajaji Nagar' after outlier removal\n",
    "plt.hist(df10[df10.location == \"Rajaji Nagar\"].price_per_sqft,rwidth=0.8)\n",
    "plt.xlabel(\"Price Per Square Feet\")\n",
    "plt.ylabel(\"Count\")"
   ]
  },
  {
   "cell_type": "markdown",
   "metadata": {
    "colab_type": "text",
    "id": "-mMls7DivV27"
   },
   "source": [
    "### Using domain knowledge for outlier removal\n",
    "* If location and square foot area is aslo same then price of 3BHK should be more than 2 BHK\n",
    "* There are other factors that also affect the price but for this exercise we are treating such values as outlier and remove them"
   ]
  },
  {
   "cell_type": "code",
   "execution_count": null,
   "metadata": {
    "colab": {
     "base_uri": "https://localhost:8080/",
     "height": 621
    },
    "colab_type": "code",
    "id": "lSrMbC5IzjCg",
    "outputId": "5d46638c-966d-4a79-c0d7-46a37be3d75d"
   },
   "outputs": [],
   "source": [
    "# Let's check if for a given location how does the 2 BHK and 3 BHK property prices look like\n",
    "def plot_scatter_chart(df,location):\n",
    "    bhk2 = df[(df.location==location) & (df.bhk==2)]\n",
    "    bhk3 = df[(df.location==location) & (df.bhk==3)]\n",
    "    matplotlib.rcParams['figure.figsize'] = (15,10)\n",
    "    plt.scatter(bhk2.total_sqft,bhk2.price,color='blue',label='2 BHK', s=50)\n",
    "    plt.scatter(bhk3.total_sqft,bhk3.price,marker='+', color='green',label='3 BHK', s=50)\n",
    "    plt.xlabel(\"Total Square Feet Area\")\n",
    "    plt.ylabel(\"Price (Lakh Indian Rupees)\")\n",
    "    plt.title(location)\n",
    "    plt.legend()\n",
    "    \n",
    "plot_scatter_chart(df10,\"Rajaji Nagar\")"
   ]
  },
  {
   "cell_type": "code",
   "execution_count": null,
   "metadata": {
    "colab": {
     "base_uri": "https://localhost:8080/",
     "height": 621
    },
    "colab_type": "code",
    "id": "dNUJFS0r0mWs",
    "outputId": "4b318839-961a-4a14-a374-aec687562cdb"
   },
   "outputs": [],
   "source": [
    "plot_scatter_chart(df10,\"Hebbal\")"
   ]
  },
  {
   "cell_type": "markdown",
   "metadata": {
    "colab_type": "text",
    "id": "U8NOcI1g2NSP"
   },
   "source": [
    "We should also remove properties where for same location, the price of (for example) 3 bedroom apartment is less than 2 bedroom apartment (with same square ft area). What we will do is for a given location, we will build a dictionary by name 'bhk_stats' with below values of 'price_per_sqft'\n",
    "\n",
    "```\n",
    "{\n",
    "    '1' : {\n",
    "        'mean': 4000,\n",
    "        'std: 2000,\n",
    "        'count': 34\n",
    "    },\n",
    "    '2' : {\n",
    "        'mean': 4300,\n",
    "        'std: 2300,\n",
    "        'count': 22\n",
    "    },    \n",
    "}\n",
    "```\n",
    "Now we can remove those 2 BHK apartments whose price_per_sqft is less than mean price_per_sqft of 1 BHK apartment"
   ]
  },
  {
   "cell_type": "code",
   "execution_count": null,
   "metadata": {
    "colab": {
     "base_uri": "https://localhost:8080/",
     "height": 34
    },
    "colab_type": "code",
    "id": "0VOD_FOY7lRX",
    "outputId": "6f9d37df-925c-4226-912c-1dabd749294d"
   },
   "outputs": [],
   "source": [
    "def remove_bhk_outliers(df):\n",
    "    exclude_indices = np.array([])\n",
    "    for location, location_df in df.groupby('location'):\n",
    "        bhk_stats = {}\n",
    "        for bhk, bhk_df in location_df.groupby('bhk'):\n",
    "            bhk_stats[bhk] = {\n",
    "                'mean': np.mean(bhk_df.price_per_sqft),\n",
    "                'std': np.std(bhk_df.price_per_sqft),\n",
    "                'count': bhk_df.shape[0]\n",
    "            }\n",
    "        for bhk, bhk_df in location_df.groupby('bhk'):\n",
    "            stats = bhk_stats.get(bhk-1)\n",
    "            if stats and stats['count']>5:\n",
    "                exclude_indices = np.append(exclude_indices, bhk_df[bhk_df.price_per_sqft<(stats['mean'])].index.values)\n",
    "    return df.drop(exclude_indices,axis='index')\n",
    "\n",
    "df11 = remove_bhk_outliers(df10)\n",
    "df11.shape"
   ]
  },
  {
   "cell_type": "code",
   "execution_count": null,
   "metadata": {
    "colab": {
     "base_uri": "https://localhost:8080/",
     "height": 621
    },
    "colab_type": "code",
    "id": "xQHWd6q4-oQe",
    "outputId": "751c1d40-c2f2-4515-9d03-3608dd26db48"
   },
   "outputs": [],
   "source": [
    "#Plot same scatter chart again to visualize price_per_sqft for 2 BHK and 3 BHK properties\n",
    "plot_scatter_chart(df11,\"Rajaji Nagar\")"
   ]
  },
  {
   "cell_type": "code",
   "execution_count": null,
   "metadata": {
    "colab": {
     "base_uri": "https://localhost:8080/",
     "height": 621
    },
    "colab_type": "code",
    "id": "6PCCUjGU-ySo",
    "outputId": "eb3ad822-0a44-42fe-f8a8-a75b020eb12d"
   },
   "outputs": [],
   "source": [
    "plot_scatter_chart(df11,\"Hebbal\")"
   ]
  },
  {
   "cell_type": "markdown",
   "metadata": {
    "colab_type": "text",
    "id": "oI-zALcd0lYW"
   },
   "source": [
    "Now you can campre the scatter plots for location(Hebbal and Rajaji Nagar) for before and after outlier removal"
   ]
  },
  {
   "cell_type": "code",
   "execution_count": null,
   "metadata": {
    "colab": {
     "base_uri": "https://localhost:8080/",
     "height": 623
    },
    "colab_type": "code",
    "id": "0ZPrCXrz_yl5",
    "outputId": "aa3bd946-1b90-4584-c5bf-1c84dd75e849"
   },
   "outputs": [],
   "source": [
    "#Now lets plot the histogram and visualize the price_per_sqft data after outlier removal\n",
    "\n",
    "matplotlib.rcParams[\"figure.figsize\"] = (20,10)\n",
    "plt.hist(df11.price_per_sqft,rwidth=0.8)\n",
    "plt.xlabel(\"Price Per Square Feet\")\n",
    "plt.ylabel(\"Count\")"
   ]
  },
  {
   "cell_type": "markdown",
   "metadata": {
    "colab_type": "text",
    "id": "TdBgKMs7BAGs"
   },
   "source": [
    "### Using domain knowledge for outlier removal\n",
    "* Generally number of bathrooms per BHK are (no of BHK) + 2.\n",
    "* So using above understanding we can identify the outliers and remove them"
   ]
  },
  {
   "cell_type": "code",
   "execution_count": null,
   "metadata": {
    "colab": {
     "base_uri": "https://localhost:8080/",
     "height": 34
    },
    "colab_type": "code",
    "id": "xw7Lb7UQBl67",
    "outputId": "c17942df-b175-4d72-dbed-6b8f7a3b536b"
   },
   "outputs": [],
   "source": [
    "#Get unique bath from dataset\n",
    "df11.bath.unique()"
   ]
  },
  {
   "cell_type": "code",
   "execution_count": null,
   "metadata": {
    "colab": {
     "base_uri": "https://localhost:8080/",
     "height": 169
    },
    "colab_type": "code",
    "id": "ZShBzKwIBti0",
    "outputId": "cde91c42-acf1-4956-8b54-b9d9f3b3332b"
   },
   "outputs": [],
   "source": [
    "#Get the training examples where no of bath are more than (no of BHK +2)\n",
    "df11[df11.bath > df11.bhk + 2]"
   ]
  },
  {
   "cell_type": "markdown",
   "metadata": {
    "colab_type": "text",
    "id": "gU3D64vpCwVU"
   },
   "source": [
    "We can remove above outliers from the datset"
   ]
  },
  {
   "cell_type": "code",
   "execution_count": null,
   "metadata": {
    "colab": {
     "base_uri": "https://localhost:8080/",
     "height": 34
    },
    "colab_type": "code",
    "id": "LIbbmyQiC0vv",
    "outputId": "dfada750-c914-42cc-a581-b719be19d960"
   },
   "outputs": [],
   "source": [
    "#Lets check current dataset shape before removing outliers\n",
    "df11.shape"
   ]
  },
  {
   "cell_type": "code",
   "execution_count": null,
   "metadata": {
    "colab": {
     "base_uri": "https://localhost:8080/",
     "height": 34
    },
    "colab_type": "code",
    "id": "mm_wgRkEDE56",
    "outputId": "9ccf862c-0ac0-4a90-e742-491184963971"
   },
   "outputs": [],
   "source": [
    "# Remove the outliers with more than (no of BHK + 2) bathrooms\n",
    "df12 = df11[df11.bath < (df11.bhk + 2)]\n",
    "df12.shape"
   ]
  },
  {
   "cell_type": "markdown",
   "metadata": {
    "colab_type": "text",
    "id": "Do-rIVsADy8L"
   },
   "source": [
    "This concludes our data cleaning, lets drop unnecessary columns\n",
    "* Since we have 'bhk' feature lets drop 'size'\n",
    "* We have crerated 'price_per_sqft' for outlier detection and removal purpose, so we can also drop it. "
   ]
  },
  {
   "cell_type": "code",
   "execution_count": null,
   "metadata": {
    "colab": {
     "base_uri": "https://localhost:8080/",
     "height": 199
    },
    "colab_type": "code",
    "id": "PBKnsIAmEait",
    "outputId": "b0e35dff-5d99-4d0b-da7c-d0f2cfb7a9ef"
   },
   "outputs": [],
   "source": [
    "df13 = df11.drop(['size', 'price_per_sqft'], axis='columns')\n",
    "df13.head()"
   ]
  },
  {
   "cell_type": "markdown",
   "metadata": {
    "colab_type": "text",
    "id": "5R74eegloVYN"
   },
   "source": [
    "## One Hot Encoding\n",
    "Since we have 'location' as categorical feature lets use One Hot Encoding to create separate column for each location category and assign binary value 1 or 0"
   ]
  },
  {
   "cell_type": "code",
   "execution_count": null,
   "metadata": {
    "colab": {
     "base_uri": "https://localhost:8080/",
     "height": 299
    },
    "colab_type": "code",
    "id": "7IOMh4-epHUO",
    "outputId": "3ad71554-3143-42a6-c09b-59f1b1a1693c"
   },
   "outputs": [],
   "source": [
    "dummies = pd.get_dummies(df13.location)\n",
    "dummies.head()"
   ]
  },
  {
   "cell_type": "code",
   "execution_count": null,
   "metadata": {
    "colab": {
     "base_uri": "https://localhost:8080/",
     "height": 299
    },
    "colab_type": "code",
    "id": "cYNOISttp7KR",
    "outputId": "50b6011f-5c34-40bf-8530-bab038629460"
   },
   "outputs": [],
   "source": [
    "#To avoid dummy variable trap problem lets delete the one of the dummy variable column\n",
    "dummies = dummies.drop(['other'],axis='columns')\n",
    "dummies.head()"
   ]
  },
  {
   "cell_type": "code",
   "execution_count": null,
   "metadata": {
    "colab": {
     "base_uri": "https://localhost:8080/",
     "height": 384
    },
    "colab_type": "code",
    "id": "GTM0__vcqVk3",
    "outputId": "34127e6f-a5d2-4d69-939f-fd013919df98"
   },
   "outputs": [],
   "source": [
    "#Now lets add dummies dataframe to original dataframe\n",
    "df14 = pd.concat([df13,dummies],axis='columns')\n",
    "df14.head()"
   ]
  },
  {
   "cell_type": "code",
   "execution_count": null,
   "metadata": {
    "colab": {
     "base_uri": "https://localhost:8080/",
     "height": 299
    },
    "colab_type": "code",
    "id": "5vEewOUaqyS8",
    "outputId": "45851ec1-2a40-46e2-d8eb-4424d78f6c11"
   },
   "outputs": [],
   "source": [
    "#Lets delete the location feature\n",
    "df15 = df14.drop(['location'],axis='columns')\n",
    "df15.head()m"
   ]
  },
  {
   "cell_type": "markdown",
   "metadata": {
    "colab_type": "text",
    "id": "PC8aQIBurVmI"
   },
   "source": [
    "#Step#5: Build Machine Learning Model\n"
   ]
  },
  {
   "cell_type": "code",
   "execution_count": null,
   "metadata": {
    "colab": {
     "base_uri": "https://localhost:8080/",
     "height": 34
    },
    "colab_type": "code",
    "id": "82pAaf4Hsba6",
    "outputId": "a7a0ff0a-5f70-4686-a52c-ca7aa8932174"
   },
   "outputs": [],
   "source": [
    "#Final shape of our dataset is\n",
    "df15.shape"
   ]
  },
  {
   "cell_type": "markdown",
   "metadata": {
    "colab_type": "text",
    "id": "rpZX-foEsrQj"
   },
   "source": [
    "Now leats create X(independent variable/features) and y(dependent variables/target)"
   ]
  },
  {
   "cell_type": "code",
   "execution_count": null,
   "metadata": {
    "colab": {
     "base_uri": "https://localhost:8080/",
     "height": 299
    },
    "colab_type": "code",
    "id": "HqPv14uPs1il",
    "outputId": "30de664c-8639-4776-c588-a7fff9951532"
   },
   "outputs": [],
   "source": [
    "X = df15.drop(['price'],axis='columns')\n",
    "X.head()"
   ]
  },
  {
   "cell_type": "code",
   "execution_count": null,
   "metadata": {
    "colab": {
     "base_uri": "https://localhost:8080/",
     "height": 122
    },
    "colab_type": "code",
    "id": "vjC9gdomtCxN",
    "outputId": "9b86ce8c-f650-42cf-d49d-0d14330bcf83"
   },
   "outputs": [],
   "source": [
    "y = df15.price\n",
    "y.head()"
   ]
  },
  {
   "cell_type": "markdown",
   "metadata": {
    "colab_type": "text",
    "id": "CZhM3vTStJa8"
   },
   "source": [
    "### Split the dataset to training andtest dataset"
   ]
  },
  {
   "cell_type": "code",
   "execution_count": null,
   "metadata": {
    "colab": {
     "base_uri": "https://localhost:8080/",
     "height": 87
    },
    "colab_type": "code",
    "id": "QkciNGFbtNXY",
    "outputId": "43ff7e40-fe39-46a2-a41e-9b965c37d41d"
   },
   "outputs": [],
   "source": [
    "from sklearn.model_selection import train_test_split\n",
    "\n",
    "X_train,X_test,y_train,y_test = train_test_split(X,y,test_size=0.2,random_state=10)\n",
    "print('X_train shape = ',X_train.shape)\n",
    "print('X_test shape = ',X_test.shape)\n",
    "print('y_train shape = ',y_train.shape)\n",
    "print('y_test shape = ',y_test.shape)"
   ]
  },
  {
   "cell_type": "markdown",
   "metadata": {
    "colab_type": "text",
    "id": "pBwpmXGxu5kD"
   },
   "source": [
    "## Linear Regression\n",
    "* Lets test the score with LinearRegression model"
   ]
  },
  {
   "cell_type": "code",
   "execution_count": null,
   "metadata": {
    "colab": {
     "base_uri": "https://localhost:8080/",
     "height": 34
    },
    "colab_type": "code",
    "id": "ku3rg58tu_yI",
    "outputId": "44476057-3321-44fa-f400-c85aced8ffa8"
   },
   "outputs": [],
   "source": [
    "from sklearn.linear_model import LinearRegression\n",
    "\n",
    "lr_clf = LinearRegression()\n",
    "lr_clf.fit(X_train, y_train)\n",
    "lr_clf.score(X_test, y_test)"
   ]
  },
  {
   "cell_type": "markdown",
   "metadata": {
    "colab_type": "text",
    "id": "56UOdMFqxk2y"
   },
   "source": [
    "### Use K Fold cross validation to measure accuracy of our LinearRegression model\n",
    "* Using Sklearn cross_val_score function\n",
    "* Note: Sklearn's cross_val_score uses StratifiedKFold by default"
   ]
  },
  {
   "cell_type": "code",
   "execution_count": null,
   "metadata": {
    "colab": {
     "base_uri": "https://localhost:8080/",
     "height": 34
    },
    "colab_type": "code",
    "id": "R7fFdWgOxnMW",
    "outputId": "2c01677e-b3bc-457b-8f96-bd724dcde122"
   },
   "outputs": [],
   "source": [
    "from sklearn.model_selection import cross_val_score\n",
    "from sklearn.model_selection import ShuffleSplit\n",
    "\n",
    "# ShuffleSplit is used to randomize the each fold\n",
    "cv = ShuffleSplit(n_splits=5, test_size=0.2, random_state=0)\n",
    "cross_val_score(LinearRegression(), X, y, cv = cv)"
   ]
  },
  {
   "cell_type": "markdown",
   "metadata": {
    "colab_type": "text",
    "id": "XQToFn4fzBFH"
   },
   "source": [
    "## GridSearchCV\n",
    "* From above scores its clear that with LinearRegresion we get max score of upto 87%\n",
    "* Let use GridSearchCV to test other regression algorithm "
   ]
  },
  {
   "cell_type": "code",
   "execution_count": null,
   "metadata": {
    "colab": {
     "base_uri": "https://localhost:8080/",
     "height": 139
    },
    "colab_type": "code",
    "id": "8SpqNhyv5_aA",
    "outputId": "94dcbb7e-6d44-4b1d-8cb6-05c3d647740f"
   },
   "outputs": [],
   "source": [
    "from sklearn.model_selection import GridSearchCV\n",
    "from sklearn.linear_model import Lasso\n",
    "from sklearn.tree import DecisionTreeRegressor\n",
    "\n",
    "from sklearn.linear_model import Ridge\n",
    "from sklearn.ensemble import GradientBoostingRegressor\n",
    "from sklearn.linear_model import ElasticNet\n",
    "\n",
    "def find_best_model_using_gridsearchcv(X,y):\n",
    "  algos ={\n",
    "      'linear_regression':{\n",
    "          'model':LinearRegression(),\n",
    "          'params': {\n",
    "              'normalize':[True,False]\n",
    "          }\n",
    "      },\n",
    "        'lasso': {\n",
    "            'model': Lasso(),\n",
    "            'params': {\n",
    "                'alpha': [1,2],\n",
    "                'selection': ['random', 'cyclic']\n",
    "            }\n",
    "        },\n",
    "        'decision_tree': {\n",
    "            'model': DecisionTreeRegressor(),\n",
    "            'params': {\n",
    "                'criterion' : ['mse','friedman_mse'],\n",
    "                'splitter': ['best','random']\n",
    "            }\n",
    "        }\n",
    "  }\n",
    "\n",
    "  scores= []\n",
    "  cv = ShuffleSplit(n_splits=5, test_size=0.2, random_state=0)\n",
    "\n",
    "  for algo_name, config in algos.items():\n",
    "      gs =  GridSearchCV(config['model'], config['params'], cv=cv, return_train_score=False)\n",
    "      gs.fit(X,y)\n",
    "      scores.append({\n",
    "          'model': algo_name,\n",
    "          'best_score': gs.best_score_,\n",
    "          'best_params': gs.best_params_\n",
    "      })\n",
    "\n",
    "  return pd.DataFrame(scores,columns=['model','best_score','best_params'])\n",
    "\n",
    "find_best_model_using_gridsearchcv(X,y)"
   ]
  },
  {
   "cell_type": "markdown",
   "metadata": {
    "colab_type": "text",
    "id": "xGINloUk9im4"
   },
   "source": [
    "**Based on above results we can say that LinearRegression gives the best score. Hence we will use that**."
   ]
  },
  {
   "cell_type": "markdown",
   "metadata": {
    "colab_type": "text",
    "id": "bu2_9OSd-bp1"
   },
   "source": [
    "## Step#6: Testing The model\n",
    "* Since all our locations are now columns in form of dummy variabales, all other dummy variables value should be 0 except the one(dummy variable column for our location) we are predicting for\n",
    "* This(np.where(X.columns==location)[0][0]) code will give us index of dummy column for our location\n",
    "* Now we will assign value '1' to this index and keep all other dummy variable columns as '0'"
   ]
  },
  {
   "cell_type": "code",
   "execution_count": null,
   "metadata": {
    "colab": {},
    "colab_type": "code",
    "id": "__25512U-kwC"
   },
   "outputs": [],
   "source": [
    "def predict_price(location, sqft, bath, bhk):    \n",
    "    loc_index = np.where(X.columns==location)[0][0]\n",
    "\n",
    "    x = np.zeros(len(X.columns))\n",
    "    x[0] = sqft\n",
    "    x[1] = bath\n",
    "    x[2] = bhk\n",
    "    if loc_index >= 0:\n",
    "        x[loc_index] = 1\n",
    "\n",
    "    return lr_clf.predict([x])[0]"
   ]
  },
  {
   "cell_type": "code",
   "execution_count": null,
   "metadata": {
    "colab": {
     "base_uri": "https://localhost:8080/",
     "height": 34
    },
    "colab_type": "code",
    "id": "j6ISUbBlAe7x",
    "outputId": "907e0a68-15bd-4ba0-f371-b1f2ec3c3211"
   },
   "outputs": [],
   "source": [
    "predict_price('1st Phase JP Nagar',1000, 2, 2)"
   ]
  },
  {
   "cell_type": "code",
   "execution_count": null,
   "metadata": {
    "colab": {
     "base_uri": "https://localhost:8080/",
     "height": 34
    },
    "colab_type": "code",
    "id": "mQeMqRXiDZTl",
    "outputId": "76d0e38d-587a-4002-e377-6c24e36759fd"
   },
   "outputs": [],
   "source": [
    "predict_price('1st Phase JP Nagar',1000, 3, 3)"
   ]
  },
  {
   "cell_type": "code",
   "execution_count": null,
   "metadata": {
    "colab": {
     "base_uri": "https://localhost:8080/",
     "height": 34
    },
    "colab_type": "code",
    "id": "XbIHmpiBDj0L",
    "outputId": "780ea922-f36a-4030-a1aa-99c3783f6ee0"
   },
   "outputs": [],
   "source": [
    "predict_price('Indira Nagar',1000, 2, 2)"
   ]
  },
  {
   "cell_type": "code",
   "execution_count": null,
   "metadata": {
    "colab": {
     "base_uri": "https://localhost:8080/",
     "height": 34
    },
    "colab_type": "code",
    "id": "-2yB2PRhDmnG",
    "outputId": "35741bfd-6f52-4022-e1fc-4a75a61c50f8"
   },
   "outputs": [],
   "source": [
    "predict_price('Indira Nagar',1000, 3, 3)"
   ]
  },
  {
   "cell_type": "markdown",
   "metadata": {
    "colab_type": "text",
    "id": "-wrsHqyiDye6"
   },
   "source": [
    "Step#7: Export the model to Pickle file"
   ]
  },
  {
   "cell_type": "code",
   "execution_count": null,
   "metadata": {
    "colab": {},
    "colab_type": "code",
    "id": "y2Tw6fFtD7qH"
   },
   "outputs": [],
   "source": [
    "import pickle\n",
    "\n",
    "with open('Real_Estate_Price_Prediction_Project.pickle','wb') as f:\n",
    "    pickle.dump(lr_clf,f)"
   ]
  },
  {
   "cell_type": "code",
   "execution_count": null,
   "metadata": {
    "colab": {
     "base_uri": "https://localhost:8080/",
     "height": 87
    },
    "colab_type": "code",
    "id": "kcGqUL-yF0Bn",
    "outputId": "e7bae874-9c1d-4ebe-d72c-917f46e2f678"
   },
   "outputs": [],
   "source": [
    "#Since we are using the Google colab, pickle will will be saved at current directory of Google cloud machine\n",
    "import os\n",
    "\n",
    "os.listdir('.')"
   ]
  },
  {
   "cell_type": "code",
   "execution_count": null,
   "metadata": {
    "colab": {},
    "colab_type": "code",
    "id": "k0OC5bymGV5B"
   },
   "outputs": [],
   "source": [
    "#Lets download it\n",
    "from google.colab import files\n",
    "\n",
    "files.download('Real_Estate_Price_Prediction_Project.pickle')"
   ]
  },
  {
   "cell_type": "markdown",
   "metadata": {
    "colab_type": "text",
    "id": "9-_rDN1TEpJS"
   },
   "source": [
    "Step#8: Export any other important info\n",
    "* since weare using One Hot Encoding for location column we need the final list of all the columns in our feature set"
   ]
  },
  {
   "cell_type": "code",
   "execution_count": null,
   "metadata": {
    "colab": {},
    "colab_type": "code",
    "id": "6ACRLmXqETof"
   },
   "outputs": [],
   "source": [
    "import json\n",
    "columns = {\n",
    "    'data_columns' : [col.lower() for col in X.columns]\n",
    "}\n",
    "with open(\"columns.json\",\"w\") as f:\n",
    "    f.write(json.dumps(columns))"
   ]
  },
  {
   "cell_type": "code",
   "execution_count": null,
   "metadata": {
    "colab": {
     "base_uri": "https://localhost:8080/",
     "height": 105
    },
    "colab_type": "code",
    "id": "4LoZ5N2pGr9W",
    "outputId": "aaccb6aa-b2e3-4661-e961-f4202f623448"
   },
   "outputs": [],
   "source": [
    "os.listdir('.')"
   ]
  },
  {
   "cell_type": "code",
   "execution_count": null,
   "metadata": {
    "colab": {},
    "colab_type": "code",
    "id": "m99d9OLtGwvi"
   },
   "outputs": [],
   "source": [
    "files.download('columns.json')"
   ]
  }
 ],
 "metadata": {
  "colab": {
   "authorship_tag": "ABX9TyM+O8SDQa7BB4Kix1lo9tHM",
   "include_colab_link": true,
   "name": "House_Price_Prediction_Project.ipynb",
   "provenance": []
  },
  "kernelspec": {
   "display_name": "Python 3",
   "language": "python",
   "name": "python3"
  },
  "language_info": {
   "codemirror_mode": {
    "name": "ipython",
    "version": 3
   },
   "file_extension": ".py",
   "mimetype": "text/x-python",
   "name": "python",
   "nbconvert_exporter": "python",
   "pygments_lexer": "ipython3",
   "version": "3.7.3"
  }
 },
 "nbformat": 4,
 "nbformat_minor": 1
}
